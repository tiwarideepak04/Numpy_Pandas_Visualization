{
 "cells": [
  {
   "cell_type": "code",
   "execution_count": null,
   "metadata": {},
   "outputs": [],
   "source": [
    "import pandas as pd\n",
    "import numpy as np"
   ]
  },
  {
   "cell_type": "markdown",
   "metadata": {},
   "source": [
    "# Concat"
   ]
  },
  {
   "cell_type": "code",
   "execution_count": null,
   "metadata": {},
   "outputs": [],
   "source": [
    "df11 = pd.read_csv('https://raw.githubusercontent.com/vcsgithub/vcsgithub.github.io/master/lds11.csv')\n",
    "df11"
   ]
  },
  {
   "cell_type": "code",
   "execution_count": null,
   "metadata": {},
   "outputs": [],
   "source": [
    "df12 = pd.read_csv('https://raw.githubusercontent.com/vcsgithub/vcsgithub.github.io/master/lds12.csv')\n",
    "df12"
   ]
  },
  {
   "cell_type": "code",
   "execution_count": null,
   "metadata": {},
   "outputs": [],
   "source": [
    "dfc = pd.concat(objs = (df11,df12), axis=0, join='outer')\n",
    "dfc"
   ]
  },
  {
   "cell_type": "code",
   "execution_count": null,
   "metadata": {},
   "outputs": [],
   "source": [
    "dfc = pd.concat(objs = (df11,df12), axis=0, join='inner')\n",
    "dfc"
   ]
  },
  {
   "cell_type": "code",
   "execution_count": null,
   "metadata": {},
   "outputs": [],
   "source": [
    "dfc.loc['Kolkata_FMCG', 'EmpCnt']"
   ]
  },
  {
   "cell_type": "code",
   "execution_count": null,
   "metadata": {},
   "outputs": [],
   "source": [
    "dfc1 = pd.concat(objs = (df11,df12), axis=0, join='inner', keys=['df11', 'df12'])\n",
    "dfc1"
   ]
  },
  {
   "cell_type": "raw",
   "metadata": {},
   "source": [
    "dfc1.loc['Kolkata_FMCG', 'EmpCnt']   #error"
   ]
  },
  {
   "cell_type": "code",
   "execution_count": null,
   "metadata": {},
   "outputs": [],
   "source": [
    "dfc1.loc[('df12',  'Kolkata_FMCG'), 'EmpCnt'] "
   ]
  },
  {
   "cell_type": "code",
   "execution_count": null,
   "metadata": {},
   "outputs": [],
   "source": [
    "dfc1"
   ]
  },
  {
   "cell_type": "code",
   "execution_count": null,
   "metadata": {},
   "outputs": [],
   "source": [
    "dfc1.iloc[6]"
   ]
  },
  {
   "cell_type": "code",
   "execution_count": null,
   "metadata": {},
   "outputs": [],
   "source": [
    "dfc1.index"
   ]
  },
  {
   "cell_type": "code",
   "execution_count": null,
   "metadata": {},
   "outputs": [],
   "source": [
    "dfc1"
   ]
  },
  {
   "cell_type": "code",
   "execution_count": null,
   "metadata": {},
   "outputs": [],
   "source": [
    "dfc2 = dfc1.sort_index()\n",
    "dfc2"
   ]
  },
  {
   "cell_type": "code",
   "execution_count": null,
   "metadata": {},
   "outputs": [],
   "source": [
    "dfc2.loc[('df11',     'Bombay_Sporting') : ('df12',   'Chennai_Chemicals')   ,'HQ']"
   ]
  },
  {
   "cell_type": "code",
   "execution_count": null,
   "metadata": {},
   "outputs": [],
   "source": [
    "dfc2.loc[['df11',      ('df12','Chennai_Chemicals')]]"
   ]
  },
  {
   "cell_type": "code",
   "execution_count": null,
   "metadata": {},
   "outputs": [],
   "source": [
    "dfc2.loc[[('df11',     'Bombay_Sporting'),('df12',   'Chennai_Chemicals') ]]"
   ]
  },
  {
   "cell_type": "code",
   "execution_count": null,
   "metadata": {},
   "outputs": [],
   "source": [
    "dfc2.loc[['df11',      ('df12','Chennai_Chemicals')]]#  check this"
   ]
  },
  {
   "cell_type": "code",
   "execution_count": null,
   "metadata": {},
   "outputs": [],
   "source": [
    "dfc2.loc[['df11','df12']]"
   ]
  },
  {
   "cell_type": "code",
   "execution_count": null,
   "metadata": {},
   "outputs": [],
   "source": [
    "dfc = pd.concat(objs = (df11,df12), axis=1, join='outer')\n",
    "dfc"
   ]
  },
  {
   "cell_type": "code",
   "execution_count": null,
   "metadata": {},
   "outputs": [],
   "source": [
    "dfc = pd.concat(objs = (df11,df12), axis=1, join='outer', keys=['f1','f2'])\n",
    "dfc"
   ]
  },
  {
   "cell_type": "code",
   "execution_count": null,
   "metadata": {},
   "outputs": [],
   "source": [
    "dfc.loc['Chennai_Shipping', (('f1', 'EmpCnt'))]"
   ]
  },
  {
   "cell_type": "code",
   "execution_count": null,
   "metadata": {},
   "outputs": [],
   "source": [
    "dfc = pd.concat(objs = (df11,df12), axis=1, join='inner', keys=['f1','f2'])\n",
    "dfc"
   ]
  },
  {
   "cell_type": "code",
   "execution_count": null,
   "metadata": {},
   "outputs": [],
   "source": [
    "df11.append(df12)"
   ]
  },
  {
   "cell_type": "markdown",
   "metadata": {},
   "source": [
    "# Stack, Unstack"
   ]
  },
  {
   "cell_type": "raw",
   "metadata": {},
   "source": [
    "           2018                       2019 \n",
    "           q1           q2             q1               q2\n",
    "           fmcg tech    fmcg tech     fmcg tech         fmcg tech  \n",
    "Tata\n",
    "Birla\n",
    "Wipro\n",
    "ITC"
   ]
  },
  {
   "cell_type": "code",
   "execution_count": null,
   "metadata": {},
   "outputs": [],
   "source": [
    "np.random.seed(25)\n",
    "n48 = np.random.randint(10,100, size=(4,8))\n",
    "n48"
   ]
  },
  {
   "cell_type": "code",
   "execution_count": null,
   "metadata": {},
   "outputs": [],
   "source": [
    "index_labels = ['Tata', 'Birla', 'Wipro', 'ITC']"
   ]
  },
  {
   "cell_type": "code",
   "execution_count": null,
   "metadata": {},
   "outputs": [],
   "source": [
    "columns_labels = pd.MultiIndex.from_product([[2018,2019], ['Q1','Q2'], ['FMCG','Tech']])\n",
    "print(columns_labels)"
   ]
  },
  {
   "cell_type": "code",
   "execution_count": null,
   "metadata": {},
   "outputs": [],
   "source": [
    "df1 = pd.DataFrame(n48,  index=index_labels, columns=columns_labels)\n",
    "df1"
   ]
  },
  {
   "cell_type": "code",
   "execution_count": null,
   "metadata": {},
   "outputs": [],
   "source": [
    "df1.index"
   ]
  },
  {
   "cell_type": "code",
   "execution_count": null,
   "metadata": {},
   "outputs": [],
   "source": [
    "df1.columns"
   ]
  },
  {
   "cell_type": "code",
   "execution_count": null,
   "metadata": {},
   "outputs": [],
   "source": [
    "df1.index.levels"
   ]
  },
  {
   "cell_type": "code",
   "execution_count": null,
   "metadata": {},
   "outputs": [],
   "source": [
    "df1.columns.levels"
   ]
  },
  {
   "cell_type": "code",
   "execution_count": null,
   "metadata": {},
   "outputs": [],
   "source": [
    "df1.loc['Tata', (2019, 'Q2', 'FMCG')] "
   ]
  },
  {
   "cell_type": "code",
   "execution_count": null,
   "metadata": {},
   "outputs": [],
   "source": [
    "print(type(df1.columns.levels))"
   ]
  },
  {
   "cell_type": "code",
   "execution_count": null,
   "metadata": {},
   "outputs": [],
   "source": [
    "df1=pd.DataFrame(n48,index=['Tata','Birla','Wipro','Itc'],columns=pd.MultiIndex.from_product([[2018,2019],['Q1','Q2'],['FMCG','Tech']]))\n"
   ]
  },
  {
   "cell_type": "code",
   "execution_count": null,
   "metadata": {},
   "outputs": [],
   "source": [
    "df1"
   ]
  },
  {
   "cell_type": "code",
   "execution_count": null,
   "metadata": {},
   "outputs": [],
   "source": [
    "df1"
   ]
  },
  {
   "cell_type": "code",
   "execution_count": null,
   "metadata": {},
   "outputs": [],
   "source": [
    "df1.index"
   ]
  },
  {
   "cell_type": "code",
   "execution_count": null,
   "metadata": {},
   "outputs": [],
   "source": [
    "df1.columns"
   ]
  },
  {
   "cell_type": "code",
   "execution_count": null,
   "metadata": {},
   "outputs": [],
   "source": [
    "df1"
   ]
  },
  {
   "cell_type": "code",
   "execution_count": null,
   "metadata": {},
   "outputs": [],
   "source": [
    "dfs1 = df1.stack(level=-1)\n",
    "dfs1"
   ]
  },
  {
   "cell_type": "code",
   "execution_count": null,
   "metadata": {},
   "outputs": [],
   "source": [
    "dfs1.index"
   ]
  },
  {
   "cell_type": "code",
   "execution_count": null,
   "metadata": {},
   "outputs": [],
   "source": [
    "dfs1.index.levels"
   ]
  },
  {
   "cell_type": "code",
   "execution_count": null,
   "metadata": {},
   "outputs": [],
   "source": [
    "dfs1.columns"
   ]
  },
  {
   "cell_type": "code",
   "execution_count": null,
   "metadata": {},
   "outputs": [],
   "source": [
    "dfs1"
   ]
  },
  {
   "cell_type": "code",
   "execution_count": null,
   "metadata": {},
   "outputs": [],
   "source": [
    "dfu1 = dfs1.unstack(level=0)"
   ]
  },
  {
   "cell_type": "code",
   "execution_count": null,
   "metadata": {},
   "outputs": [],
   "source": [
    "dfu1"
   ]
  },
  {
   "cell_type": "markdown",
   "metadata": {},
   "source": [
    "# Pivot Table"
   ]
  },
  {
   "cell_type": "code",
   "execution_count": null,
   "metadata": {},
   "outputs": [],
   "source": [
    "df1 = pd.read_csv('https://raw.githubusercontent.com/vcsgithub/vcsgithub.github.io/master/lds1.csv')\n",
    "df1"
   ]
  },
  {
   "cell_type": "code",
   "execution_count": null,
   "metadata": {},
   "outputs": [],
   "source": [
    "dp = pd.pivot_table(df1,  index='Catg', aggfunc='mean')\n",
    "dp"
   ]
  },
  {
   "cell_type": "code",
   "execution_count": null,
   "metadata": {},
   "outputs": [],
   "source": [
    "dp = pd.pivot_table(df1,  index='Catg', aggfunc=['mean','sum', 'count'])\n",
    "dp"
   ]
  },
  {
   "cell_type": "code",
   "execution_count": null,
   "metadata": {},
   "outputs": [],
   "source": [
    "dp = pd.pivot_table(df1,  index=['Catg','HQ'], aggfunc=['mean','sum', 'count'])\n",
    "dp"
   ]
  },
  {
   "cell_type": "code",
   "execution_count": null,
   "metadata": {},
   "outputs": [],
   "source": [
    "dp = pd.pivot_table(df1,  index=['Catg','HQ'], values='Vol', aggfunc=['mean','sum', 'count'])\n",
    "dp"
   ]
  },
  {
   "cell_type": "code",
   "execution_count": null,
   "metadata": {},
   "outputs": [],
   "source": [
    "dp = pd.pivot_table(df1,  index='Catg', columns='HQ', values='Vol', aggfunc=['mean','sum', 'count'])\n",
    "dp"
   ]
  },
  {
   "cell_type": "code",
   "execution_count": null,
   "metadata": {},
   "outputs": [],
   "source": [
    "dp = pd.pivot_table(df1,  index='Catg', values='Vol', aggfunc=[np.min, np.max])\n",
    "dp"
   ]
  },
  {
   "cell_type": "code",
   "execution_count": null,
   "metadata": {},
   "outputs": [],
   "source": [
    "def maxmindiff(c):\n",
    "    print(c)\n",
    "    print(type(c))\n",
    "    return c.max()-c.min()\n",
    "\n",
    "\n",
    "minmaxdiff = lambda c:c.min()-c.max()"
   ]
  },
  {
   "cell_type": "code",
   "execution_count": null,
   "metadata": {},
   "outputs": [],
   "source": [
    "dp = pd.pivot_table(df1,  index='Catg', values='Vol', aggfunc=[np.min, np.max, maxmindiff])\n",
    "dp"
   ]
  },
  {
   "cell_type": "code",
   "execution_count": null,
   "metadata": {},
   "outputs": [],
   "source": [
    "dp = pd.pivot_table(df1,  index='Catg', values='Vol', aggfunc=[np.min, np.max, lambda c:c.min()-c.max()])\n",
    "dp"
   ]
  },
  {
   "cell_type": "code",
   "execution_count": null,
   "metadata": {},
   "outputs": [],
   "source": [
    "dp = pd.pivot_table(df1,  index='Catg', values='Vol', aggfunc=[np.min, np.max, minmaxdiff])\n",
    "dp"
   ]
  },
  {
   "cell_type": "markdown",
   "metadata": {},
   "source": [
    "# Map,  Rename, Replace"
   ]
  },
  {
   "cell_type": "code",
   "execution_count": null,
   "metadata": {},
   "outputs": [],
   "source": [
    "df1 = pd.read_csv('https://raw.githubusercontent.com/vcsgithub/vcsgithub.github.io/master/lds1.csv')\n",
    "df1"
   ]
  },
  {
   "cell_type": "code",
   "execution_count": null,
   "metadata": {},
   "outputs": [],
   "source": [
    "md = {'Mum':'WZ', 'Che':'SZ', 'NCR':'NZ', 'Kol':'EZ','Blr':'SZ'}"
   ]
  },
  {
   "cell_type": "code",
   "execution_count": null,
   "metadata": {},
   "outputs": [],
   "source": [
    "df1['Zone'] = df1.HQ.map(md)\n",
    "df1"
   ]
  },
  {
   "cell_type": "raw",
   "metadata": {},
   "source": [
    "<925 : AvSales,  >925 < 950 : GoodSales >950 Excellent Sales"
   ]
  },
  {
   "cell_type": "code",
   "execution_count": null,
   "metadata": {},
   "outputs": [],
   "source": [
    "def salesCategory(sales):\n",
    "    if sales < 925:\n",
    "        return 'Av_Sales'\n",
    "    elif 925 <= sales < 950:\n",
    "        return 'Gd_Sales'\n",
    "    else:\n",
    "        return 'Ex_Sales'"
   ]
  },
  {
   "cell_type": "code",
   "execution_count": null,
   "metadata": {},
   "outputs": [],
   "source": [
    "df1['Saleclass'] = df1.Vol.map(salesCategory)\n",
    "df1"
   ]
  },
  {
   "cell_type": "code",
   "execution_count": null,
   "metadata": {},
   "outputs": [],
   "source": [
    "salesclass = lambda sales : 0 if sales < 925 else 2 if sales > 950 else 1"
   ]
  },
  {
   "cell_type": "code",
   "execution_count": null,
   "metadata": {},
   "outputs": [],
   "source": [
    "df1['SaleclassNum'] = df1.Vol.map(salesclass)\n",
    "df1"
   ]
  },
  {
   "cell_type": "code",
   "execution_count": null,
   "metadata": {},
   "outputs": [],
   "source": [
    "col_d = {'Vol': 'Volume', 'Rev':'Revenue'}\n",
    "row_d = {'Indi_Services': 'Irailways', 'Bangalore_Breweries': 'UB'}"
   ]
  },
  {
   "cell_type": "code",
   "execution_count": null,
   "metadata": {},
   "outputs": [],
   "source": [
    "df2 = df1.rename(index=row_d,  columns=col_d)\n",
    "df2"
   ]
  },
  {
   "cell_type": "code",
   "execution_count": null,
   "metadata": {},
   "outputs": [],
   "source": [
    "df1['Catg'].replace(to_replace = 'Pub',value='Public',inplace=True )"
   ]
  },
  {
   "cell_type": "code",
   "execution_count": null,
   "metadata": {},
   "outputs": [],
   "source": [
    "rep_d = {'Gov':'government', 'Pvt':'Private'}"
   ]
  },
  {
   "cell_type": "code",
   "execution_count": null,
   "metadata": {},
   "outputs": [],
   "source": [
    "df1['Catg'].replace(rep_d,inplace=True )"
   ]
  },
  {
   "cell_type": "code",
   "execution_count": 143,
   "metadata": {},
   "outputs": [
    {
     "data": {
      "text/html": [
       "<div>\n",
       "<style scoped>\n",
       "    .dataframe tbody tr th:only-of-type {\n",
       "        vertical-align: middle;\n",
       "    }\n",
       "\n",
       "    .dataframe tbody tr th {\n",
       "        vertical-align: top;\n",
       "    }\n",
       "\n",
       "    .dataframe thead th {\n",
       "        text-align: right;\n",
       "    }\n",
       "</style>\n",
       "<table border=\"1\" class=\"dataframe\">\n",
       "  <thead>\n",
       "    <tr style=\"text-align: right;\">\n",
       "      <th></th>\n",
       "      <th>Vol</th>\n",
       "      <th>Rev</th>\n",
       "      <th>Exp</th>\n",
       "      <th>Catg</th>\n",
       "      <th>EmpCnt</th>\n",
       "      <th>HQ</th>\n",
       "      <th>Zone</th>\n",
       "      <th>Saleclass</th>\n",
       "      <th>SaleclassNum</th>\n",
       "    </tr>\n",
       "  </thead>\n",
       "  <tbody>\n",
       "    <tr>\n",
       "      <th>Bombay_Finance</th>\n",
       "      <td>899</td>\n",
       "      <td>917.0</td>\n",
       "      <td>674</td>\n",
       "      <td>Public</td>\n",
       "      <td>1443</td>\n",
       "      <td>Mum</td>\n",
       "      <td>WZ</td>\n",
       "      <td>Av_Sales</td>\n",
       "      <td>0</td>\n",
       "    </tr>\n",
       "    <tr>\n",
       "      <th>Bombay_Sporting</th>\n",
       "      <td>925</td>\n",
       "      <td>839.8</td>\n",
       "      <td>615</td>\n",
       "      <td>Private</td>\n",
       "      <td>154</td>\n",
       "      <td>Mum</td>\n",
       "      <td>WZ</td>\n",
       "      <td>Gd_Sales</td>\n",
       "      <td>1</td>\n",
       "    </tr>\n",
       "    <tr>\n",
       "      <th>Kolkata_FMCG</th>\n",
       "      <td>900</td>\n",
       "      <td>874.4</td>\n",
       "      <td>676</td>\n",
       "      <td>Public</td>\n",
       "      <td>1379</td>\n",
       "      <td>Kol</td>\n",
       "      <td>EZ</td>\n",
       "      <td>Av_Sales</td>\n",
       "      <td>0</td>\n",
       "    </tr>\n",
       "    <tr>\n",
       "      <th>NCR_Leagles</th>\n",
       "      <td>931</td>\n",
       "      <td>863.5</td>\n",
       "      <td>605</td>\n",
       "      <td>Public</td>\n",
       "      <td>1935</td>\n",
       "      <td>NCR</td>\n",
       "      <td>NZ</td>\n",
       "      <td>Gd_Sales</td>\n",
       "      <td>1</td>\n",
       "    </tr>\n",
       "    <tr>\n",
       "      <th>Chennai_Shipping</th>\n",
       "      <td>992</td>\n",
       "      <td>821.0</td>\n",
       "      <td>665</td>\n",
       "      <td>Public</td>\n",
       "      <td>1154</td>\n",
       "      <td>Che</td>\n",
       "      <td>SZ</td>\n",
       "      <td>Ex_Sales</td>\n",
       "      <td>2</td>\n",
       "    </tr>\n",
       "    <tr>\n",
       "      <th>Bangalore_Systems</th>\n",
       "      <td>931</td>\n",
       "      <td>881.6</td>\n",
       "      <td>650</td>\n",
       "      <td>government</td>\n",
       "      <td>1361</td>\n",
       "      <td>Blr</td>\n",
       "      <td>SZ</td>\n",
       "      <td>Gd_Sales</td>\n",
       "      <td>1</td>\n",
       "    </tr>\n",
       "    <tr>\n",
       "      <th>Bangalore_Breweries</th>\n",
       "      <td>966</td>\n",
       "      <td>805.0</td>\n",
       "      <td>895</td>\n",
       "      <td>Private</td>\n",
       "      <td>119</td>\n",
       "      <td>Blr</td>\n",
       "      <td>SZ</td>\n",
       "      <td>Ex_Sales</td>\n",
       "      <td>2</td>\n",
       "    </tr>\n",
       "    <tr>\n",
       "      <th>Chennai_Chemicals</th>\n",
       "      <td>966</td>\n",
       "      <td>863.2</td>\n",
       "      <td>608</td>\n",
       "      <td>Public</td>\n",
       "      <td>1656</td>\n",
       "      <td>Che</td>\n",
       "      <td>SZ</td>\n",
       "      <td>Ex_Sales</td>\n",
       "      <td>2</td>\n",
       "    </tr>\n",
       "    <tr>\n",
       "      <th>Indi_Services</th>\n",
       "      <td>954</td>\n",
       "      <td>733.0</td>\n",
       "      <td>609</td>\n",
       "      <td>government</td>\n",
       "      <td>13023</td>\n",
       "      <td>NCR</td>\n",
       "      <td>NZ</td>\n",
       "      <td>Ex_Sales</td>\n",
       "      <td>2</td>\n",
       "    </tr>\n",
       "  </tbody>\n",
       "</table>\n",
       "</div>"
      ],
      "text/plain": [
       "                     Vol    Rev  Exp        Catg  EmpCnt   HQ Zone Saleclass  \\\n",
       "Bombay_Finance       899  917.0  674      Public    1443  Mum   WZ  Av_Sales   \n",
       "Bombay_Sporting      925  839.8  615     Private     154  Mum   WZ  Gd_Sales   \n",
       "Kolkata_FMCG         900  874.4  676      Public    1379  Kol   EZ  Av_Sales   \n",
       "NCR_Leagles          931  863.5  605      Public    1935  NCR   NZ  Gd_Sales   \n",
       "Chennai_Shipping     992  821.0  665      Public    1154  Che   SZ  Ex_Sales   \n",
       "Bangalore_Systems    931  881.6  650  government    1361  Blr   SZ  Gd_Sales   \n",
       "Bangalore_Breweries  966  805.0  895     Private     119  Blr   SZ  Ex_Sales   \n",
       "Chennai_Chemicals    966  863.2  608      Public    1656  Che   SZ  Ex_Sales   \n",
       "Indi_Services        954  733.0  609  government   13023  NCR   NZ  Ex_Sales   \n",
       "\n",
       "                     SaleclassNum  \n",
       "Bombay_Finance                  0  \n",
       "Bombay_Sporting                 1  \n",
       "Kolkata_FMCG                    0  \n",
       "NCR_Leagles                     1  \n",
       "Chennai_Shipping                2  \n",
       "Bangalore_Systems               1  \n",
       "Bangalore_Breweries             2  \n",
       "Chennai_Chemicals               2  \n",
       "Indi_Services                   2  "
      ]
     },
     "execution_count": 143,
     "metadata": {},
     "output_type": "execute_result"
    }
   ],
   "source": [
    "df1"
   ]
  },
  {
   "cell_type": "code",
   "execution_count": 144,
   "metadata": {},
   "outputs": [
    {
     "data": {
      "text/html": [
       "<div>\n",
       "<style scoped>\n",
       "    .dataframe tbody tr th:only-of-type {\n",
       "        vertical-align: middle;\n",
       "    }\n",
       "\n",
       "    .dataframe tbody tr th {\n",
       "        vertical-align: top;\n",
       "    }\n",
       "\n",
       "    .dataframe thead th {\n",
       "        text-align: right;\n",
       "    }\n",
       "</style>\n",
       "<table border=\"1\" class=\"dataframe\">\n",
       "  <thead>\n",
       "    <tr style=\"text-align: right;\">\n",
       "      <th></th>\n",
       "      <th>Vol</th>\n",
       "      <th>Rev</th>\n",
       "      <th>Exp</th>\n",
       "      <th>Catg</th>\n",
       "      <th>EmpCnt</th>\n",
       "      <th>HQ</th>\n",
       "      <th>Zone</th>\n",
       "      <th>Saleclass</th>\n",
       "      <th>SaleclassNum</th>\n",
       "    </tr>\n",
       "  </thead>\n",
       "  <tbody>\n",
       "    <tr>\n",
       "      <th>Bombay_Finance</th>\n",
       "      <td>800</td>\n",
       "      <td>800.0</td>\n",
       "      <td>800</td>\n",
       "      <td>800</td>\n",
       "      <td>800</td>\n",
       "      <td>800</td>\n",
       "      <td>800</td>\n",
       "      <td>800</td>\n",
       "      <td>800</td>\n",
       "    </tr>\n",
       "    <tr>\n",
       "      <th>Bombay_Sporting</th>\n",
       "      <td>925</td>\n",
       "      <td>839.8</td>\n",
       "      <td>615</td>\n",
       "      <td>Private</td>\n",
       "      <td>154</td>\n",
       "      <td>Mum</td>\n",
       "      <td>WZ</td>\n",
       "      <td>Gd_Sales</td>\n",
       "      <td>1</td>\n",
       "    </tr>\n",
       "    <tr>\n",
       "      <th>Kolkata_FMCG</th>\n",
       "      <td>900</td>\n",
       "      <td>874.4</td>\n",
       "      <td>676</td>\n",
       "      <td>Public</td>\n",
       "      <td>1379</td>\n",
       "      <td>Kol</td>\n",
       "      <td>EZ</td>\n",
       "      <td>Av_Sales</td>\n",
       "      <td>0</td>\n",
       "    </tr>\n",
       "    <tr>\n",
       "      <th>NCR_Leagles</th>\n",
       "      <td>931</td>\n",
       "      <td>863.5</td>\n",
       "      <td>605</td>\n",
       "      <td>Public</td>\n",
       "      <td>1935</td>\n",
       "      <td>NCR</td>\n",
       "      <td>NZ</td>\n",
       "      <td>Gd_Sales</td>\n",
       "      <td>1</td>\n",
       "    </tr>\n",
       "    <tr>\n",
       "      <th>Chennai_Shipping</th>\n",
       "      <td>992</td>\n",
       "      <td>821.0</td>\n",
       "      <td>665</td>\n",
       "      <td>Public</td>\n",
       "      <td>1154</td>\n",
       "      <td>Che</td>\n",
       "      <td>SZ</td>\n",
       "      <td>Ex_Sales</td>\n",
       "      <td>2</td>\n",
       "    </tr>\n",
       "    <tr>\n",
       "      <th>Bangalore_Systems</th>\n",
       "      <td>931</td>\n",
       "      <td>881.6</td>\n",
       "      <td>650</td>\n",
       "      <td>government</td>\n",
       "      <td>1361</td>\n",
       "      <td>Blr</td>\n",
       "      <td>SZ</td>\n",
       "      <td>Gd_Sales</td>\n",
       "      <td>1</td>\n",
       "    </tr>\n",
       "    <tr>\n",
       "      <th>Bangalore_Breweries</th>\n",
       "      <td>966</td>\n",
       "      <td>805.0</td>\n",
       "      <td>895</td>\n",
       "      <td>Private</td>\n",
       "      <td>119</td>\n",
       "      <td>Blr</td>\n",
       "      <td>SZ</td>\n",
       "      <td>Ex_Sales</td>\n",
       "      <td>2</td>\n",
       "    </tr>\n",
       "    <tr>\n",
       "      <th>Chennai_Chemicals</th>\n",
       "      <td>966</td>\n",
       "      <td>863.2</td>\n",
       "      <td>608</td>\n",
       "      <td>Public</td>\n",
       "      <td>1656</td>\n",
       "      <td>Che</td>\n",
       "      <td>SZ</td>\n",
       "      <td>Ex_Sales</td>\n",
       "      <td>2</td>\n",
       "    </tr>\n",
       "    <tr>\n",
       "      <th>Indi_Services</th>\n",
       "      <td>954</td>\n",
       "      <td>733.0</td>\n",
       "      <td>609</td>\n",
       "      <td>government</td>\n",
       "      <td>13023</td>\n",
       "      <td>NCR</td>\n",
       "      <td>NZ</td>\n",
       "      <td>Ex_Sales</td>\n",
       "      <td>2</td>\n",
       "    </tr>\n",
       "  </tbody>\n",
       "</table>\n",
       "</div>"
      ],
      "text/plain": [
       "                     Vol    Rev  Exp        Catg  EmpCnt   HQ Zone Saleclass  \\\n",
       "Bombay_Finance       800  800.0  800         800     800  800  800       800   \n",
       "Bombay_Sporting      925  839.8  615     Private     154  Mum   WZ  Gd_Sales   \n",
       "Kolkata_FMCG         900  874.4  676      Public    1379  Kol   EZ  Av_Sales   \n",
       "NCR_Leagles          931  863.5  605      Public    1935  NCR   NZ  Gd_Sales   \n",
       "Chennai_Shipping     992  821.0  665      Public    1154  Che   SZ  Ex_Sales   \n",
       "Bangalore_Systems    931  881.6  650  government    1361  Blr   SZ  Gd_Sales   \n",
       "Bangalore_Breweries  966  805.0  895     Private     119  Blr   SZ  Ex_Sales   \n",
       "Chennai_Chemicals    966  863.2  608      Public    1656  Che   SZ  Ex_Sales   \n",
       "Indi_Services        954  733.0  609  government   13023  NCR   NZ  Ex_Sales   \n",
       "\n",
       "                     SaleclassNum  \n",
       "Bombay_Finance                800  \n",
       "Bombay_Sporting                 1  \n",
       "Kolkata_FMCG                    0  \n",
       "NCR_Leagles                     1  \n",
       "Chennai_Shipping                2  \n",
       "Bangalore_Systems               1  \n",
       "Bangalore_Breweries             2  \n",
       "Chennai_Chemicals               2  \n",
       "Indi_Services                   2  "
      ]
     },
     "execution_count": 144,
     "metadata": {},
     "output_type": "execute_result"
    }
   ],
   "source": [
    "df1.where(df1.Vol != 899, 800)"
   ]
  },
  {
   "cell_type": "code",
   "execution_count": 145,
   "metadata": {},
   "outputs": [
    {
     "data": {
      "text/html": [
       "<div>\n",
       "<style scoped>\n",
       "    .dataframe tbody tr th:only-of-type {\n",
       "        vertical-align: middle;\n",
       "    }\n",
       "\n",
       "    .dataframe tbody tr th {\n",
       "        vertical-align: top;\n",
       "    }\n",
       "\n",
       "    .dataframe thead th {\n",
       "        text-align: right;\n",
       "    }\n",
       "</style>\n",
       "<table border=\"1\" class=\"dataframe\">\n",
       "  <thead>\n",
       "    <tr style=\"text-align: right;\">\n",
       "      <th></th>\n",
       "      <th>Vol</th>\n",
       "      <th>Rev</th>\n",
       "      <th>Exp</th>\n",
       "      <th>Catg</th>\n",
       "      <th>EmpCnt</th>\n",
       "      <th>HQ</th>\n",
       "      <th>Zone</th>\n",
       "      <th>Saleclass</th>\n",
       "      <th>SaleclassNum</th>\n",
       "    </tr>\n",
       "  </thead>\n",
       "  <tbody>\n",
       "    <tr>\n",
       "      <th>Bombay_Finance</th>\n",
       "      <td>NaN</td>\n",
       "      <td>NaN</td>\n",
       "      <td>NaN</td>\n",
       "      <td>NaN</td>\n",
       "      <td>NaN</td>\n",
       "      <td>NaN</td>\n",
       "      <td>NaN</td>\n",
       "      <td>NaN</td>\n",
       "      <td>NaN</td>\n",
       "    </tr>\n",
       "    <tr>\n",
       "      <th>Bombay_Sporting</th>\n",
       "      <td>925.0</td>\n",
       "      <td>839.8</td>\n",
       "      <td>615.0</td>\n",
       "      <td>Private</td>\n",
       "      <td>154.0</td>\n",
       "      <td>Mum</td>\n",
       "      <td>WZ</td>\n",
       "      <td>Gd_Sales</td>\n",
       "      <td>1.0</td>\n",
       "    </tr>\n",
       "    <tr>\n",
       "      <th>Kolkata_FMCG</th>\n",
       "      <td>900.0</td>\n",
       "      <td>874.4</td>\n",
       "      <td>676.0</td>\n",
       "      <td>Public</td>\n",
       "      <td>1379.0</td>\n",
       "      <td>Kol</td>\n",
       "      <td>EZ</td>\n",
       "      <td>Av_Sales</td>\n",
       "      <td>0.0</td>\n",
       "    </tr>\n",
       "    <tr>\n",
       "      <th>NCR_Leagles</th>\n",
       "      <td>931.0</td>\n",
       "      <td>863.5</td>\n",
       "      <td>605.0</td>\n",
       "      <td>Public</td>\n",
       "      <td>1935.0</td>\n",
       "      <td>NCR</td>\n",
       "      <td>NZ</td>\n",
       "      <td>Gd_Sales</td>\n",
       "      <td>1.0</td>\n",
       "    </tr>\n",
       "    <tr>\n",
       "      <th>Chennai_Shipping</th>\n",
       "      <td>992.0</td>\n",
       "      <td>821.0</td>\n",
       "      <td>665.0</td>\n",
       "      <td>Public</td>\n",
       "      <td>1154.0</td>\n",
       "      <td>Che</td>\n",
       "      <td>SZ</td>\n",
       "      <td>Ex_Sales</td>\n",
       "      <td>2.0</td>\n",
       "    </tr>\n",
       "    <tr>\n",
       "      <th>Bangalore_Systems</th>\n",
       "      <td>931.0</td>\n",
       "      <td>881.6</td>\n",
       "      <td>650.0</td>\n",
       "      <td>government</td>\n",
       "      <td>1361.0</td>\n",
       "      <td>Blr</td>\n",
       "      <td>SZ</td>\n",
       "      <td>Gd_Sales</td>\n",
       "      <td>1.0</td>\n",
       "    </tr>\n",
       "    <tr>\n",
       "      <th>Bangalore_Breweries</th>\n",
       "      <td>966.0</td>\n",
       "      <td>805.0</td>\n",
       "      <td>895.0</td>\n",
       "      <td>Private</td>\n",
       "      <td>119.0</td>\n",
       "      <td>Blr</td>\n",
       "      <td>SZ</td>\n",
       "      <td>Ex_Sales</td>\n",
       "      <td>2.0</td>\n",
       "    </tr>\n",
       "    <tr>\n",
       "      <th>Chennai_Chemicals</th>\n",
       "      <td>966.0</td>\n",
       "      <td>863.2</td>\n",
       "      <td>608.0</td>\n",
       "      <td>Public</td>\n",
       "      <td>1656.0</td>\n",
       "      <td>Che</td>\n",
       "      <td>SZ</td>\n",
       "      <td>Ex_Sales</td>\n",
       "      <td>2.0</td>\n",
       "    </tr>\n",
       "    <tr>\n",
       "      <th>Indi_Services</th>\n",
       "      <td>954.0</td>\n",
       "      <td>733.0</td>\n",
       "      <td>609.0</td>\n",
       "      <td>government</td>\n",
       "      <td>13023.0</td>\n",
       "      <td>NCR</td>\n",
       "      <td>NZ</td>\n",
       "      <td>Ex_Sales</td>\n",
       "      <td>2.0</td>\n",
       "    </tr>\n",
       "  </tbody>\n",
       "</table>\n",
       "</div>"
      ],
      "text/plain": [
       "                       Vol    Rev    Exp        Catg   EmpCnt   HQ Zone  \\\n",
       "Bombay_Finance         NaN    NaN    NaN         NaN      NaN  NaN  NaN   \n",
       "Bombay_Sporting      925.0  839.8  615.0     Private    154.0  Mum   WZ   \n",
       "Kolkata_FMCG         900.0  874.4  676.0      Public   1379.0  Kol   EZ   \n",
       "NCR_Leagles          931.0  863.5  605.0      Public   1935.0  NCR   NZ   \n",
       "Chennai_Shipping     992.0  821.0  665.0      Public   1154.0  Che   SZ   \n",
       "Bangalore_Systems    931.0  881.6  650.0  government   1361.0  Blr   SZ   \n",
       "Bangalore_Breweries  966.0  805.0  895.0     Private    119.0  Blr   SZ   \n",
       "Chennai_Chemicals    966.0  863.2  608.0      Public   1656.0  Che   SZ   \n",
       "Indi_Services        954.0  733.0  609.0  government  13023.0  NCR   NZ   \n",
       "\n",
       "                    Saleclass  SaleclassNum  \n",
       "Bombay_Finance            NaN           NaN  \n",
       "Bombay_Sporting      Gd_Sales           1.0  \n",
       "Kolkata_FMCG         Av_Sales           0.0  \n",
       "NCR_Leagles          Gd_Sales           1.0  \n",
       "Chennai_Shipping     Ex_Sales           2.0  \n",
       "Bangalore_Systems    Gd_Sales           1.0  \n",
       "Bangalore_Breweries  Ex_Sales           2.0  \n",
       "Chennai_Chemicals    Ex_Sales           2.0  \n",
       "Indi_Services        Ex_Sales           2.0  "
      ]
     },
     "execution_count": 145,
     "metadata": {},
     "output_type": "execute_result"
    }
   ],
   "source": [
    "df1.where(df1.Vol != 899)"
   ]
  },
  {
   "cell_type": "code",
   "execution_count": 146,
   "metadata": {},
   "outputs": [
    {
     "data": {
      "text/html": [
       "<div>\n",
       "<style scoped>\n",
       "    .dataframe tbody tr th:only-of-type {\n",
       "        vertical-align: middle;\n",
       "    }\n",
       "\n",
       "    .dataframe tbody tr th {\n",
       "        vertical-align: top;\n",
       "    }\n",
       "\n",
       "    .dataframe thead th {\n",
       "        text-align: right;\n",
       "    }\n",
       "</style>\n",
       "<table border=\"1\" class=\"dataframe\">\n",
       "  <thead>\n",
       "    <tr style=\"text-align: right;\">\n",
       "      <th></th>\n",
       "      <th>Vol</th>\n",
       "      <th>Rev</th>\n",
       "      <th>Exp</th>\n",
       "      <th>Catg</th>\n",
       "      <th>EmpCnt</th>\n",
       "      <th>HQ</th>\n",
       "    </tr>\n",
       "  </thead>\n",
       "  <tbody>\n",
       "    <tr>\n",
       "      <th>Bombay_Finance</th>\n",
       "      <td>899</td>\n",
       "      <td>917.0</td>\n",
       "      <td>674</td>\n",
       "      <td>Pub</td>\n",
       "      <td>1443</td>\n",
       "      <td>Mum</td>\n",
       "    </tr>\n",
       "    <tr>\n",
       "      <th>Bombay_Sporting</th>\n",
       "      <td>925</td>\n",
       "      <td>839.8</td>\n",
       "      <td>615</td>\n",
       "      <td>Pvt</td>\n",
       "      <td>154</td>\n",
       "      <td>Mum</td>\n",
       "    </tr>\n",
       "    <tr>\n",
       "      <th>Kolkata_FMCG</th>\n",
       "      <td>900</td>\n",
       "      <td>874.4</td>\n",
       "      <td>676</td>\n",
       "      <td>Pub</td>\n",
       "      <td>1379</td>\n",
       "      <td>Kol</td>\n",
       "    </tr>\n",
       "    <tr>\n",
       "      <th>NCR_Leagles</th>\n",
       "      <td>931</td>\n",
       "      <td>863.5</td>\n",
       "      <td>605</td>\n",
       "      <td>Pub</td>\n",
       "      <td>1935</td>\n",
       "      <td>NCR</td>\n",
       "    </tr>\n",
       "    <tr>\n",
       "      <th>Chennai_Shipping</th>\n",
       "      <td>992</td>\n",
       "      <td>821.0</td>\n",
       "      <td>665</td>\n",
       "      <td>Pub</td>\n",
       "      <td>1154</td>\n",
       "      <td>Che</td>\n",
       "    </tr>\n",
       "    <tr>\n",
       "      <th>Bangalore_Systems</th>\n",
       "      <td>931</td>\n",
       "      <td>881.6</td>\n",
       "      <td>650</td>\n",
       "      <td>Gov</td>\n",
       "      <td>1361</td>\n",
       "      <td>Blr</td>\n",
       "    </tr>\n",
       "    <tr>\n",
       "      <th>Bangalore_Breweries</th>\n",
       "      <td>966</td>\n",
       "      <td>805.0</td>\n",
       "      <td>895</td>\n",
       "      <td>Pvt</td>\n",
       "      <td>119</td>\n",
       "      <td>Blr</td>\n",
       "    </tr>\n",
       "    <tr>\n",
       "      <th>Chennai_Chemicals</th>\n",
       "      <td>966</td>\n",
       "      <td>863.2</td>\n",
       "      <td>608</td>\n",
       "      <td>Pub</td>\n",
       "      <td>1656</td>\n",
       "      <td>Che</td>\n",
       "    </tr>\n",
       "    <tr>\n",
       "      <th>Indi_Services</th>\n",
       "      <td>954</td>\n",
       "      <td>733.0</td>\n",
       "      <td>609</td>\n",
       "      <td>Gov</td>\n",
       "      <td>13023</td>\n",
       "      <td>NCR</td>\n",
       "    </tr>\n",
       "  </tbody>\n",
       "</table>\n",
       "</div>"
      ],
      "text/plain": [
       "                     Vol    Rev  Exp Catg  EmpCnt   HQ\n",
       "Bombay_Finance       899  917.0  674  Pub    1443  Mum\n",
       "Bombay_Sporting      925  839.8  615  Pvt     154  Mum\n",
       "Kolkata_FMCG         900  874.4  676  Pub    1379  Kol\n",
       "NCR_Leagles          931  863.5  605  Pub    1935  NCR\n",
       "Chennai_Shipping     992  821.0  665  Pub    1154  Che\n",
       "Bangalore_Systems    931  881.6  650  Gov    1361  Blr\n",
       "Bangalore_Breweries  966  805.0  895  Pvt     119  Blr\n",
       "Chennai_Chemicals    966  863.2  608  Pub    1656  Che\n",
       "Indi_Services        954  733.0  609  Gov   13023  NCR"
      ]
     },
     "execution_count": 146,
     "metadata": {},
     "output_type": "execute_result"
    }
   ],
   "source": [
    "df1 = pd.read_csv('https://raw.githubusercontent.com/vcsgithub/vcsgithub.github.io/master/lds1.csv')\n",
    "df1"
   ]
  },
  {
   "cell_type": "code",
   "execution_count": 147,
   "metadata": {},
   "outputs": [
    {
     "data": {
      "text/plain": [
       "Bombay_Finance         888\n",
       "Bombay_Sporting        925\n",
       "Kolkata_FMCG           900\n",
       "NCR_Leagles            931\n",
       "Chennai_Shipping       992\n",
       "Bangalore_Systems      931\n",
       "Bangalore_Breweries    966\n",
       "Chennai_Chemicals      966\n",
       "Indi_Services          954\n",
       "Name: Vol, dtype: int64"
      ]
     },
     "execution_count": 147,
     "metadata": {},
     "output_type": "execute_result"
    }
   ],
   "source": [
    "df1.Vol.where(df1.Vol != 899, 888)"
   ]
  },
  {
   "cell_type": "code",
   "execution_count": 148,
   "metadata": {},
   "outputs": [
    {
     "data": {
      "text/html": [
       "<div>\n",
       "<style scoped>\n",
       "    .dataframe tbody tr th:only-of-type {\n",
       "        vertical-align: middle;\n",
       "    }\n",
       "\n",
       "    .dataframe tbody tr th {\n",
       "        vertical-align: top;\n",
       "    }\n",
       "\n",
       "    .dataframe thead th {\n",
       "        text-align: right;\n",
       "    }\n",
       "</style>\n",
       "<table border=\"1\" class=\"dataframe\">\n",
       "  <thead>\n",
       "    <tr style=\"text-align: right;\">\n",
       "      <th></th>\n",
       "      <th>Vol</th>\n",
       "      <th>Rev</th>\n",
       "      <th>Exp</th>\n",
       "      <th>Catg</th>\n",
       "      <th>EmpCnt</th>\n",
       "      <th>HQ</th>\n",
       "    </tr>\n",
       "  </thead>\n",
       "  <tbody>\n",
       "    <tr>\n",
       "      <th>Bombay_Finance</th>\n",
       "      <td>899</td>\n",
       "      <td>917.0</td>\n",
       "      <td>674</td>\n",
       "      <td>Pub</td>\n",
       "      <td>1443</td>\n",
       "      <td>Mum</td>\n",
       "    </tr>\n",
       "    <tr>\n",
       "      <th>Bombay_Sporting</th>\n",
       "      <td>925</td>\n",
       "      <td>839.8</td>\n",
       "      <td>615</td>\n",
       "      <td>Pvt</td>\n",
       "      <td>154</td>\n",
       "      <td>Mum</td>\n",
       "    </tr>\n",
       "    <tr>\n",
       "      <th>Kolkata_FMCG</th>\n",
       "      <td>900</td>\n",
       "      <td>874.4</td>\n",
       "      <td>676</td>\n",
       "      <td>Pub</td>\n",
       "      <td>1379</td>\n",
       "      <td>Kol</td>\n",
       "    </tr>\n",
       "    <tr>\n",
       "      <th>NCR_Leagles</th>\n",
       "      <td>931</td>\n",
       "      <td>863.5</td>\n",
       "      <td>605</td>\n",
       "      <td>Pub</td>\n",
       "      <td>1935</td>\n",
       "      <td>NCR</td>\n",
       "    </tr>\n",
       "    <tr>\n",
       "      <th>Chennai_Shipping</th>\n",
       "      <td>992</td>\n",
       "      <td>821.0</td>\n",
       "      <td>665</td>\n",
       "      <td>Pub</td>\n",
       "      <td>1154</td>\n",
       "      <td>Che</td>\n",
       "    </tr>\n",
       "    <tr>\n",
       "      <th>Bangalore_Systems</th>\n",
       "      <td>931</td>\n",
       "      <td>881.6</td>\n",
       "      <td>650</td>\n",
       "      <td>Gov</td>\n",
       "      <td>1361</td>\n",
       "      <td>Blr</td>\n",
       "    </tr>\n",
       "    <tr>\n",
       "      <th>Bangalore_Breweries</th>\n",
       "      <td>966</td>\n",
       "      <td>805.0</td>\n",
       "      <td>895</td>\n",
       "      <td>Pvt</td>\n",
       "      <td>119</td>\n",
       "      <td>Blr</td>\n",
       "    </tr>\n",
       "    <tr>\n",
       "      <th>Chennai_Chemicals</th>\n",
       "      <td>966</td>\n",
       "      <td>863.2</td>\n",
       "      <td>608</td>\n",
       "      <td>Pub</td>\n",
       "      <td>1656</td>\n",
       "      <td>Che</td>\n",
       "    </tr>\n",
       "    <tr>\n",
       "      <th>Indi_Services</th>\n",
       "      <td>954</td>\n",
       "      <td>733.0</td>\n",
       "      <td>609</td>\n",
       "      <td>Gov</td>\n",
       "      <td>13023</td>\n",
       "      <td>NCR</td>\n",
       "    </tr>\n",
       "  </tbody>\n",
       "</table>\n",
       "</div>"
      ],
      "text/plain": [
       "                     Vol    Rev  Exp Catg  EmpCnt   HQ\n",
       "Bombay_Finance       899  917.0  674  Pub    1443  Mum\n",
       "Bombay_Sporting      925  839.8  615  Pvt     154  Mum\n",
       "Kolkata_FMCG         900  874.4  676  Pub    1379  Kol\n",
       "NCR_Leagles          931  863.5  605  Pub    1935  NCR\n",
       "Chennai_Shipping     992  821.0  665  Pub    1154  Che\n",
       "Bangalore_Systems    931  881.6  650  Gov    1361  Blr\n",
       "Bangalore_Breweries  966  805.0  895  Pvt     119  Blr\n",
       "Chennai_Chemicals    966  863.2  608  Pub    1656  Che\n",
       "Indi_Services        954  733.0  609  Gov   13023  NCR"
      ]
     },
     "execution_count": 148,
     "metadata": {},
     "output_type": "execute_result"
    }
   ],
   "source": [
    "\n",
    "df1"
   ]
  },
  {
   "cell_type": "code",
   "execution_count": 183,
   "metadata": {},
   "outputs": [
    {
     "name": "stdout",
     "output_type": "stream",
     "text": [
      "    Days Tournament\n",
      "0    Mon   Football\n",
      "1   Tues    Cricket\n",
      "2    Wed   Football\n",
      "3  Thurs     Hockey\n",
      "4    Fri    Cricket\n",
      "(array([0, 2], dtype=int64),)\n"
     ]
    },
    {
     "data": {
      "text/html": [
       "<div>\n",
       "<style scoped>\n",
       "    .dataframe tbody tr th:only-of-type {\n",
       "        vertical-align: middle;\n",
       "    }\n",
       "\n",
       "    .dataframe tbody tr th {\n",
       "        vertical-align: top;\n",
       "    }\n",
       "\n",
       "    .dataframe thead th {\n",
       "        text-align: right;\n",
       "    }\n",
       "</style>\n",
       "<table border=\"1\" class=\"dataframe\">\n",
       "  <thead>\n",
       "    <tr style=\"text-align: right;\">\n",
       "      <th></th>\n",
       "      <th>Days</th>\n",
       "      <th>Tournament</th>\n",
       "    </tr>\n",
       "  </thead>\n",
       "  <tbody>\n",
       "    <tr>\n",
       "      <th>0</th>\n",
       "      <td>Mon</td>\n",
       "      <td>ABCD</td>\n",
       "    </tr>\n",
       "    <tr>\n",
       "      <th>1</th>\n",
       "      <td>Tues</td>\n",
       "      <td>Cricket</td>\n",
       "    </tr>\n",
       "    <tr>\n",
       "      <th>2</th>\n",
       "      <td>Wed</td>\n",
       "      <td>ABCD</td>\n",
       "    </tr>\n",
       "    <tr>\n",
       "      <th>3</th>\n",
       "      <td>Thurs</td>\n",
       "      <td>Hockey</td>\n",
       "    </tr>\n",
       "    <tr>\n",
       "      <th>4</th>\n",
       "      <td>Fri</td>\n",
       "      <td>Cricket</td>\n",
       "    </tr>\n",
       "  </tbody>\n",
       "</table>\n",
       "</div>"
      ],
      "text/plain": [
       "    Days Tournament\n",
       "0    Mon       ABCD\n",
       "1   Tues    Cricket\n",
       "2    Wed       ABCD\n",
       "3  Thurs     Hockey\n",
       "4    Fri    Cricket"
      ]
     },
     "execution_count": 183,
     "metadata": {},
     "output_type": "execute_result"
    }
   ],
   "source": [
    "import numpy as np\n",
    "\n",
    "data = [\n",
    "    ['Mon','Football'],\n",
    "    ['Tues','Cricket'],\n",
    "    ['Wed','Football'],\n",
    "    ['Thurs','Hockey'],\n",
    "    ['Fri','Cricket']    \n",
    "]\n",
    "\n",
    "col = ['Days','Tournament']\n",
    "\n",
    "df2 = pd.DataFrame(data, columns=col)\n",
    "print(df2)\n",
    "\n",
    "x = np.where(df2['Tournament'] == 'Football')\n",
    "print(x)\n",
    "df2.loc[x[0], 'Tournament'] = 'ABCD'\n",
    "df2"
   ]
  },
  {
   "cell_type": "code",
   "execution_count": 186,
   "metadata": {},
   "outputs": [
    {
     "data": {
      "text/html": [
       "<div>\n",
       "<style scoped>\n",
       "    .dataframe tbody tr th:only-of-type {\n",
       "        vertical-align: middle;\n",
       "    }\n",
       "\n",
       "    .dataframe tbody tr th {\n",
       "        vertical-align: top;\n",
       "    }\n",
       "\n",
       "    .dataframe thead th {\n",
       "        text-align: right;\n",
       "    }\n",
       "</style>\n",
       "<table border=\"1\" class=\"dataframe\">\n",
       "  <thead>\n",
       "    <tr style=\"text-align: right;\">\n",
       "      <th></th>\n",
       "      <th>Name</th>\n",
       "      <th>Maths</th>\n",
       "      <th>English</th>\n",
       "    </tr>\n",
       "  </thead>\n",
       "  <tbody>\n",
       "    <tr>\n",
       "      <th>0</th>\n",
       "      <td>Emma</td>\n",
       "      <td>56</td>\n",
       "      <td>89</td>\n",
       "    </tr>\n",
       "    <tr>\n",
       "      <th>1</th>\n",
       "      <td>Mia</td>\n",
       "      <td>78</td>\n",
       "      <td>89</td>\n",
       "    </tr>\n",
       "    <tr>\n",
       "      <th>2</th>\n",
       "      <td>Sophia</td>\n",
       "      <td>78</td>\n",
       "      <td>76</td>\n",
       "    </tr>\n",
       "    <tr>\n",
       "      <th>3</th>\n",
       "      <td>James</td>\n",
       "      <td>67</td>\n",
       "      <td>78</td>\n",
       "    </tr>\n",
       "    <tr>\n",
       "      <th>4</th>\n",
       "      <td>John</td>\n",
       "      <td>88</td>\n",
       "      <td>87</td>\n",
       "    </tr>\n",
       "  </tbody>\n",
       "</table>\n",
       "</div>"
      ],
      "text/plain": [
       "     Name  Maths  English\n",
       "0    Emma     56       89\n",
       "1     Mia     78       89\n",
       "2  Sophia     78       76\n",
       "3   James     67       78\n",
       "4    John     88       87"
      ]
     },
     "execution_count": 186,
     "metadata": {},
     "output_type": "execute_result"
    }
   ],
   "source": [
    "a= ['Emma', 'Mia', 'Sophia', 'James', 'John']\n",
    "m= [56, 78, 78, 67, 88]\n",
    "e= [89, 89, 76, 78, 87]\n",
    "s= [89, 87, 78, 89, 78]\n",
    "col= ['Name','Maths', 'English']\n",
    "d= pd.DataFrame(list(zip(a, m, e)), columns= col)\n",
    "d"
   ]
  },
  {
   "cell_type": "code",
   "execution_count": 187,
   "metadata": {},
   "outputs": [],
   "source": [
    "d['Science'] = pd.Series(s)"
   ]
  },
  {
   "cell_type": "code",
   "execution_count": 188,
   "metadata": {},
   "outputs": [
    {
     "data": {
      "text/html": [
       "<div>\n",
       "<style scoped>\n",
       "    .dataframe tbody tr th:only-of-type {\n",
       "        vertical-align: middle;\n",
       "    }\n",
       "\n",
       "    .dataframe tbody tr th {\n",
       "        vertical-align: top;\n",
       "    }\n",
       "\n",
       "    .dataframe thead th {\n",
       "        text-align: right;\n",
       "    }\n",
       "</style>\n",
       "<table border=\"1\" class=\"dataframe\">\n",
       "  <thead>\n",
       "    <tr style=\"text-align: right;\">\n",
       "      <th></th>\n",
       "      <th>Name</th>\n",
       "      <th>Maths</th>\n",
       "      <th>English</th>\n",
       "      <th>Science</th>\n",
       "    </tr>\n",
       "  </thead>\n",
       "  <tbody>\n",
       "    <tr>\n",
       "      <th>0</th>\n",
       "      <td>Emma</td>\n",
       "      <td>56</td>\n",
       "      <td>89</td>\n",
       "      <td>89</td>\n",
       "    </tr>\n",
       "    <tr>\n",
       "      <th>1</th>\n",
       "      <td>Mia</td>\n",
       "      <td>78</td>\n",
       "      <td>89</td>\n",
       "      <td>87</td>\n",
       "    </tr>\n",
       "    <tr>\n",
       "      <th>2</th>\n",
       "      <td>Sophia</td>\n",
       "      <td>78</td>\n",
       "      <td>76</td>\n",
       "      <td>78</td>\n",
       "    </tr>\n",
       "    <tr>\n",
       "      <th>3</th>\n",
       "      <td>James</td>\n",
       "      <td>67</td>\n",
       "      <td>78</td>\n",
       "      <td>89</td>\n",
       "    </tr>\n",
       "    <tr>\n",
       "      <th>4</th>\n",
       "      <td>John</td>\n",
       "      <td>88</td>\n",
       "      <td>87</td>\n",
       "      <td>78</td>\n",
       "    </tr>\n",
       "  </tbody>\n",
       "</table>\n",
       "</div>"
      ],
      "text/plain": [
       "     Name  Maths  English  Science\n",
       "0    Emma     56       89       89\n",
       "1     Mia     78       89       87\n",
       "2  Sophia     78       76       78\n",
       "3   James     67       78       89\n",
       "4    John     88       87       78"
      ]
     },
     "execution_count": 188,
     "metadata": {},
     "output_type": "execute_result"
    }
   ],
   "source": [
    "d"
   ]
  },
  {
   "cell_type": "code",
   "execution_count": null,
   "metadata": {},
   "outputs": [],
   "source": []
  }
 ],
 "metadata": {
  "kernelspec": {
   "display_name": "Python 3",
   "language": "python",
   "name": "python3"
  },
  "language_info": {
   "codemirror_mode": {
    "name": "ipython",
    "version": 3
   },
   "file_extension": ".py",
   "mimetype": "text/x-python",
   "name": "python",
   "nbconvert_exporter": "python",
   "pygments_lexer": "ipython3",
   "version": "3.8.3"
  }
 },
 "nbformat": 4,
 "nbformat_minor": 4
}
